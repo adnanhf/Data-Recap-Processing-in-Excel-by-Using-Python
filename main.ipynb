{
 "cells": [
  {
   "attachments": {},
   "cell_type": "markdown",
   "metadata": {},
   "source": [
    "# Global syntaxes\n",
    "## Some global setups before creating functions\n",
    "\n",
    "### Installing Required Libraries"
   ]
  },
  {
   "cell_type": "code",
   "execution_count": null,
   "metadata": {},
   "outputs": [],
   "source": [
    "!pip3 install systools\n",
    "!pip3 install xlsxwriter\n",
    "!pip3 install translate"
   ]
  },
  {
   "attachments": {},
   "cell_type": "markdown",
   "metadata": {},
   "source": [
    "### Importing Libraries"
   ]
  },
  {
   "cell_type": "code",
   "execution_count": null,
   "metadata": {},
   "outputs": [],
   "source": [
    "import numpy as np\n",
    "import pandas as pd\n",
    "from systemtools.number import *\n",
    "from datetime import datetime as dt, timedelta as td\n",
    "from translate import Translator\n",
    "trnslt = Translator(to_lang='id')"
   ]
  },
  {
   "attachments": {},
   "cell_type": "markdown",
   "metadata": {},
   "source": [
    "### Ignoring Warning\n",
    "#### This code below will make some warnings inactive. Warning: enable this code below with caution!"
   ]
  },
  {
   "cell_type": "code",
   "execution_count": null,
   "metadata": {},
   "outputs": [],
   "source": [
    "import warnings\n",
    "from pandas.core.common import SettingWithCopyWarning\n",
    "warnings.simplefilter(action=\"ignore\", category=SettingWithCopyWarning)\n",
    "warnings.simplefilter(action=\"ignore\", category=UserWarning)"
   ]
  },
  {
   "attachments": {},
   "cell_type": "markdown",
   "metadata": {},
   "source": [
    "### Configure Pandas's Display Setting\n",
    "#### Enable us to see all column and row when using Pandas"
   ]
  },
  {
   "cell_type": "code",
   "execution_count": null,
   "metadata": {},
   "outputs": [],
   "source": [
    "pd.set_option('display.max_rows', None)\n",
    "pd.set_option('display.max_columns', None)"
   ]
  },
  {
   "attachments": {},
   "cell_type": "markdown",
   "metadata": {},
   "source": [
    "# Small Task Functions\n",
    "## This section contains some functions for general purpose"
   ]
  },
  {
   "attachments": {},
   "cell_type": "markdown",
   "metadata": {},
   "source": [
    "### Indexing in a nested list\n",
    "#### This specific function would be used for creating load's summary"
   ]
  },
  {
   "cell_type": "code",
   "execution_count": null,
   "metadata": {},
   "outputs": [],
   "source": [
    "def nestedlist_rootindex(thelist, char1, char2):\n",
    "    for i in range(len(thelist)):\n",
    "        if char1 == thelist[i][0] and char2 == thelist[i][1]:\n",
    "            return i"
   ]
  },
  {
   "attachments": {},
   "cell_type": "markdown",
   "metadata": {},
   "source": [
    "### Read file\n",
    "#### Function for importing data. Input from .xlsx would stored as dataframe"
   ]
  },
  {
   "cell_type": "code",
   "execution_count": null,
   "metadata": {},
   "outputs": [],
   "source": [
    "def read_excel_file(filename=None,,sheet_name=None,col_title=None):\n",
    "    dfname=pd.read_excel(filename,sheet_name,header=col_title)\n",
    "    dfname.sort_values(by=['TANGGAL BERTOLAK','JAM BERTOLAK'],inplace=True)\n",
    "    dfname['NO'] = range(1,len(dfname)+1)\n",
    "    dfname = dfname.reset_index(drop=True)\n",
    "    print('terdapat',len(dfname),'baris data')\n",
    "\n",
    "    return dfname"
   ]
  },
  {
   "attachments": {},
   "cell_type": "markdown",
   "metadata": {},
   "source": [
    "### Classify data\n",
    "#### Grouping data into some categories by certain terms"
   ]
  },
  {
   "cell_type": "code",
   "execution_count": null,
   "metadata": {},
   "outputs": [],
   "source": [
    "def categorizing(dfreadfile):\n",
    "\n",
    "    #categorizing by gross tonnage\n",
    "    dfun500 = dfreadfile.loc[dfreadfile['GT'] <= 500]\n",
    "    dfun500['NO'] = range(1,len(dfun500)+1)\n",
    "    dfun500 = dfun500.reset_index(drop=True)\n",
    "    dfab500 = dfreadfile.loc[dfreadfile['GT'] > 500]\n",
    "    dfab500['NO'] = range(1,len(dfab500)+1)\n",
    "    dfab500 = dfab500.reset_index(drop=True)\n",
    "\n",
    "    #categorizing by destination type\n",
    "    dfdom = dfreadfile.loc[dfreadfile['KATEGORI'] == 'DOMESTIK']\n",
    "    dfdom['NO'] = range(1,len(dfdom)+1)\n",
    "    dfdom = dfdom.reset_index(drop=True)\n",
    "    dfexp = dfreadfile.loc[dfreadfile['KATEGORI'] == 'EKSPOR']\n",
    "    dfexp['NO'] = range(1,len(dfexp)+1)\n",
    "    dfexp = dfexp.reset_index(drop=True)\n",
    "\n",
    "    #categorizing by place registered\n",
    "    dfbun = dfreadfile.loc[dfreadfile['KET'] == 'BUNYU']\n",
    "    dfbun['NO'] = range(1,len(dfbun)+1)\n",
    "    dfbun = dfbun.reset_index(drop=True)\n",
    "    \n",
    "    return dfun500,dfab500,dfdom,dfexp,dfbun"
   ]
  },
  {
   "attachments": {},
   "cell_type": "markdown",
   "metadata": {},
   "source": [
    "# (To Be Continued)\n",
    "## This part would consists of functions for reading file, followed by classifing file's content into some categories"
   ]
  }
 ],
 "metadata": {
  "kernelspec": {
   "display_name": "Python 3",
   "language": "python",
   "name": "python3"
  },
  "language_info": {
   "codemirror_mode": {
    "name": "ipython",
    "version": 3
   },
   "file_extension": ".py",
   "mimetype": "text/x-python",
   "name": "python",
   "nbconvert_exporter": "python",
   "pygments_lexer": "ipython3",
   "version": "3.10.4"
  },
  "orig_nbformat": 4,
  "vscode": {
   "interpreter": {
    "hash": "3ad933181bd8a04b432d3370b9dc3b0662ad032c4dfaa4e4f1596c548f763858"
   }
  }
 },
 "nbformat": 4,
 "nbformat_minor": 2
}
